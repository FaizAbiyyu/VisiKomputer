{
 "cells": [
  {
   "cell_type": "code",
   "execution_count": 1,
   "metadata": {},
   "outputs": [
    {
     "name": "stderr",
     "output_type": "stream",
     "text": [
      "c:\\Users\\hp\\AppData\\Local\\Programs\\Python\\Python310\\lib\\site-packages\\keras\\src\\layers\\convolutional\\base_conv.py:99: UserWarning: Do not pass an `input_shape`/`input_dim` argument to a layer. When using Sequential models, prefer using an `Input(shape)` object as the first layer in the model instead.\n",
      "  super().__init__(\n",
      "c:\\Users\\hp\\AppData\\Local\\Programs\\Python\\Python310\\lib\\site-packages\\keras\\src\\optimizers\\base_optimizer.py:34: UserWarning: Argument `decay` is no longer supported and will be ignored.\n",
      "  warnings.warn(\n",
      "WARNING:absl:Compiled the loaded model, but the compiled metrics have yet to be built. `model.compile_metrics` will be empty until you train or evaluate the model.\n",
      "WARNING:absl:Error in loading the saved optimizer state. As a result, your model is starting with a freshly initialized optimizer.\n"
     ]
    }
   ],
   "source": [
    "import cv2\n",
    "import numpy as np\n",
    "from tensorflow.keras.models import load_model\n",
    "\n",
    "# Memuat model deteksi wajah Haar Cascade\n",
    "face_cascade = cv2.CascadeClassifier(cv2.data.haarcascades + 'haarcascade_frontalface_default.xml')\n",
    "\n",
    "# Memuat model pengenalan emosi yang telah dilatih\n",
    "emotion_model_path = 'lbpvgg10.h5'\n",
    "emotion_model = load_model(emotion_model_path)\n",
    "\n",
    "# Label emosi, sesuaikan dengan urutan output model Anda\n",
    "EMOTIONS = [\"Angry\", \"Disgust\", \"Fear\", \"Happy\", \"Neutral\", \"Sad\", \"Surprised\"]\n",
    "\n",
    "def preprocess_face(face):\n",
    "    face = cv2.cvtColor(face, cv2.COLOR_BGR2GRAY) # Mengubah menjadi grayscale\n",
    "    face = cv2.resize(face, (48, 48)) # Mengubah ukuran menjadi 48x48\n",
    "    face = face.astype(\"float\") / 255.0 # Normalisasi\n",
    "    face = np.expand_dims(face, axis=-1) # Menambahkan dimensi channel\n",
    "    face = np.expand_dims(face, axis=0) # Menambahkan batch dimension\n",
    "    return face\n",
    "\n",
    "def detect_and_classify_emotion(image_path):\n",
    "    # Membaca gambar\n",
    "    img = cv2.imread(image_path)\n",
    "    gray = cv2.cvtColor(img, cv2.COLOR_BGR2GRAY)\n",
    "\n",
    "    # Mendeteksi wajah dalam gambar\n",
    "    faces = face_cascade.detectMultiScale(gray, scaleFactor=1.1, minNeighbors=5, minSize=(30, 30), flags=cv2.CASCADE_SCALE_IMAGE)\n",
    "\n",
    "    for (x, y, w, h) in faces:\n",
    "        # Memotong wajah dari gambar\n",
    "        face = img[y:y+h, x:x+w]\n",
    "        # Pra-pemrosesan wajah untuk model\n",
    "        preprocessed_face = preprocess_face(face)\n",
    "\n",
    "        # Menggunakan model untuk mengenali emosi wajah\n",
    "        emotion_prediction = emotion_model.predict(preprocessed_face)\n",
    "        emotion_probability = np.max(emotion_prediction)\n",
    "        emotion_label = EMOTIONS[emotion_prediction.argmax()]\n",
    "\n",
    "        # Menampilkan emosi pada gambar\n",
    "        cv2.rectangle(img, (x, y), (x+w, y+h), (0, 255, 0), 2)\n",
    "        text = \"{}: {:.2f}%\".format(emotion_label, emotion_probability * 100)\n",
    "        cv2.putText(img, text, (x, y - 10), cv2.FONT_HERSHEY_SIMPLEX, 0.9, (0, 255, 0), 2)\n",
    "\n",
    "    # Menampilkan gambar\n",
    "    cv2.imshow('Detected Emotions', img)\n",
    "    cv2.waitKey(0)\n",
    "    cv2.destroyAllWindows()\n",
    "\n",
    "# Contoh pemanggilan fungsi\n",
    "# detect_and_classify_emotion('path_to_your_image.jpg')\n"
   ]
  },
  {
   "cell_type": "code",
   "execution_count": 7,
   "metadata": {},
   "outputs": [
    {
     "name": "stdout",
     "output_type": "stream",
     "text": [
      "\u001b[1m1/1\u001b[0m \u001b[32m━━━━━━━━━━━━━━━━━━━━\u001b[0m\u001b[37m\u001b[0m \u001b[1m0s\u001b[0m 68ms/step\n"
     ]
    }
   ],
   "source": [
    "detect_and_classify_emotion('samplegambar/sedih2.jpeg')\n"
   ]
  },
  {
   "cell_type": "code",
   "execution_count": null,
   "metadata": {},
   "outputs": [],
   "source": []
  }
 ],
 "metadata": {
  "kernelspec": {
   "display_name": "Python 3",
   "language": "python",
   "name": "python3"
  },
  "language_info": {
   "codemirror_mode": {
    "name": "ipython",
    "version": 3
   },
   "file_extension": ".py",
   "mimetype": "text/x-python",
   "name": "python",
   "nbconvert_exporter": "python",
   "pygments_lexer": "ipython3",
   "version": "3.10.11"
  }
 },
 "nbformat": 4,
 "nbformat_minor": 2
}
