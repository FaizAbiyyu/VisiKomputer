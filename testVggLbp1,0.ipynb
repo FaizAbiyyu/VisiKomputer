{
 "cells": [
  {
   "cell_type": "code",
   "execution_count": 3,
   "id": "50fae60e",
   "metadata": {},
   "outputs": [],
   "source": [
    "import numpy as np\n",
    "import os\n",
    "from skimage.feature import local_binary_pattern\n",
    "from skimage import io\n",
    "from skimage.color import rgb2gray\n",
    "from skimage.transform import resize\n",
    "from tensorflow.keras.utils import to_categorical\n",
    "from tensorflow.keras.models import Sequential\n",
    "from tensorflow.keras.layers import Dense, Conv2D, MaxPooling2D, Flatten, Dropout\n",
    "from tensorflow.keras.optimizers import Adam\n"
   ]
  },
  {
   "cell_type": "code",
   "execution_count": 4,
   "id": "aca083e0",
   "metadata": {},
   "outputs": [],
   "source": [
    "\n",
    "\n",
    "# Dataset directories\n",
    "train_path = os.path.join('Dataset/train')\n",
    "test_path = os.path.join('Dataset/test')\n",
    "\n",
    "# Step 2: Preprocess the Data\n",
    "img_width, img_height = 48, 48\n",
    "batch_size = 32\n",
    "\n"
   ]
  },
  {
   "cell_type": "code",
   "execution_count": 5,
   "id": "5d5aa907",
   "metadata": {},
   "outputs": [],
   "source": [
    "train_datagen = ImageDataGenerator(\n",
    "    rescale=1./255,\n",
    "    shear_range=0.2,\n",
    "    zoom_range=0.2,\n",
    "    horizontal_flip=True,\n",
    "    validation_split=0.2  # Use 20% of the images for validation\n",
    ")\n",
    "\n",
    "test_datagen = ImageDataGenerator(rescale=1./255)\n",
    "\n"
   ]
  },
  {
   "cell_type": "code",
   "execution_count": 6,
   "id": "4cce5666",
   "metadata": {},
   "outputs": [
    {
     "name": "stdout",
     "output_type": "stream",
     "text": [
      "Found 22968 images belonging to 7 classes.\n",
      "Found 5741 images belonging to 7 classes.\n",
      "Found 7178 images belonging to 7 classes.\n"
     ]
    }
   ],
   "source": [
    "train_generator = train_datagen.flow_from_directory(\n",
    "    train_path,\n",
    "    target_size=(img_width, img_height),\n",
    "    batch_size=batch_size,\n",
    "    class_mode='categorical',\n",
    "    subset='training'\n",
    ")\n",
    "\n",
    "validation_generator = train_datagen.flow_from_directory(\n",
    "    train_path,\n",
    "    target_size=(img_width, img_height),\n",
    "    batch_size=batch_size,\n",
    "    class_mode='categorical',\n",
    "    subset='validation'\n",
    ")\n",
    "\n",
    "test_generator = test_datagen.flow_from_directory(\n",
    "    test_path,\n",
    "    target_size=(img_width, img_height),\n",
    "    batch_size=batch_size,\n",
    "    class_mode='categorical'\n",
    ")\n",
    "\n"
   ]
  },
  {
   "cell_type": "code",
   "execution_count": 7,
   "id": "e8a99df7",
   "metadata": {},
   "outputs": [],
   "source": [
    "# Step 3: Build the CNN Model\n",
    "model = Sequential([\n",
    "    Conv2D(32, (3, 3), input_shape=(img_width, img_height, 3)),\n",
    "    Activation('relu'),\n",
    "    MaxPooling2D(pool_size=(2, 2)),\n",
    "\n",
    "    Conv2D(64, (3, 3)),\n",
    "    Activation('relu'),\n",
    "    MaxPooling2D(pool_size=(2, 2)),\n",
    "\n",
    "    Conv2D(128, (3, 3)),\n",
    "    Activation('relu'),\n",
    "    MaxPooling2D(pool_size=(2, 2)),\n",
    "\n",
    "    Flatten(),\n",
    "    Dense(64),\n",
    "    Activation('relu'),\n",
    "    Dropout(0.5),\n",
    "    Dense(len(train_generator.class_indices)),\n",
    "    Activation('softmax')\n",
    "])\n",
    "\n"
   ]
  },
  {
   "cell_type": "code",
   "execution_count": 8,
   "id": "86385a30",
   "metadata": {},
   "outputs": [],
   "source": [
    "# Step 4: Compile the Model\n",
    "model.compile(loss='categorical_crossentropy',\n",
    "              optimizer='adam',\n",
    "              metrics=['accuracy'])\n",
    "\n"
   ]
  },
  {
   "cell_type": "code",
   "execution_count": 9,
   "id": "0da1c0ce",
   "metadata": {},
   "outputs": [
    {
     "name": "stdout",
     "output_type": "stream",
     "text": [
      "Epoch 1/25\n",
      "717/717 [==============================] - 229s 245ms/step - loss: 1.8016 - accuracy: 0.2572 - val_loss: 1.7115 - val_accuracy: 0.2970\n",
      "Epoch 2/25\n",
      "717/717 [==============================] - 28s 39ms/step - loss: 1.6847 - accuracy: 0.3203 - val_loss: 1.6074 - val_accuracy: 0.3623\n",
      "Epoch 3/25\n",
      "717/717 [==============================] - 28s 39ms/step - loss: 1.6041 - accuracy: 0.3664 - val_loss: 1.5136 - val_accuracy: 0.41383 - accuracy: 0. - ETA: 0s - loss: 1\n",
      "Epoch 4/25\n",
      "717/717 [==============================] - 29s 41ms/step - loss: 1.5332 - accuracy: 0.3983 - val_loss: 1.4466 - val_accuracy: 0.4469\n",
      "Epoch 5/25\n",
      "717/717 [==============================] - 34s 47ms/step - loss: 1.4926 - accuracy: 0.4250 - val_loss: 1.3954 - val_accuracy: 0.4693\n",
      "Epoch 6/25\n",
      "717/717 [==============================] - 33s 46ms/step - loss: 1.4481 - accuracy: 0.4412 - val_loss: 1.3730 - val_accuracy: 0.4766\n",
      "Epoch 7/25\n",
      "717/717 [==============================] - 31s 43ms/step - loss: 1.4246 - accuracy: 0.4497 - val_loss: 1.3588 - val_accuracy: 0.4801\n",
      "Epoch 8/25\n",
      "717/717 [==============================] - 62s 87ms/step - loss: 1.3976 - accuracy: 0.4669 - val_loss: 1.3318 - val_accuracy: 0.5023\n",
      "Epoch 9/25\n",
      "717/717 [==============================] - 143s 199ms/step - loss: 1.3752 - accuracy: 0.4762 - val_loss: 1.3043 - val_accuracy: 0.5037\n",
      "Epoch 10/25\n",
      "717/717 [==============================] - 28s 39ms/step - loss: 1.3625 - accuracy: 0.4828 - val_loss: 1.3117 - val_accuracy: 0.5014\n",
      "Epoch 11/25\n",
      "717/717 [==============================] - 28s 39ms/step - loss: 1.3468 - accuracy: 0.4872 - val_loss: 1.3101 - val_accuracy: 0.5044\n",
      "Epoch 12/25\n",
      "717/717 [==============================] - 28s 39ms/step - loss: 1.3300 - accuracy: 0.4925 - val_loss: 1.2680 - val_accuracy: 0.5094\n",
      "Epoch 13/25\n",
      "717/717 [==============================] - 28s 39ms/step - loss: 1.3217 - accuracy: 0.4959 - val_loss: 1.2776 - val_accuracy: 0.5072\n",
      "Epoch 14/25\n",
      "717/717 [==============================] - 29s 40ms/step - loss: 1.3045 - accuracy: 0.5040 - val_loss: 1.2628 - val_accuracy: 0.5127\n",
      "Epoch 15/25\n",
      "717/717 [==============================] - 29s 40ms/step - loss: 1.2979 - accuracy: 0.5094 - val_loss: 1.2582 - val_accuracy: 0.5250\n",
      "Epoch 16/25\n",
      "717/717 [==============================] - 28s 40ms/step - loss: 1.2840 - accuracy: 0.5109 - val_loss: 1.2566 - val_accuracy: 0.5196\n",
      "Epoch 17/25\n",
      "717/717 [==============================] - 28s 40ms/step - loss: 1.2767 - accuracy: 0.5170 - val_loss: 1.2385 - val_accuracy: 0.5267 1.2769 -  - ETA: \n",
      "Epoch 18/25\n",
      "717/717 [==============================] - 29s 40ms/step - loss: 1.2678 - accuracy: 0.5202 - val_loss: 1.2271 - val_accuracy: 0.5363\n",
      "Epoch 19/25\n",
      "717/717 [==============================] - 28s 40ms/step - loss: 1.2606 - accuracy: 0.5242 - val_loss: 1.2507 - val_accuracy: 0.5292\n",
      "Epoch 20/25\n",
      "717/717 [==============================] - 29s 40ms/step - loss: 1.2508 - accuracy: 0.5286 - val_loss: 1.2255 - val_accuracy: 0.5281\n",
      "Epoch 21/25\n",
      "717/717 [==============================] - 29s 40ms/step - loss: 1.2402 - accuracy: 0.5303 - val_loss: 1.2149 - val_accuracy: 0.5339\n",
      "Epoch 22/25\n",
      "717/717 [==============================] - 29s 40ms/step - loss: 1.2365 - accuracy: 0.5325 - val_loss: 1.1964 - val_accuracy: 0.5424\n",
      "Epoch 23/25\n",
      "717/717 [==============================] - 29s 40ms/step - loss: 1.2273 - accuracy: 0.5371 - val_loss: 1.2052 - val_accuracy: 0.5330\n",
      "Epoch 24/25\n",
      "717/717 [==============================] - 29s 40ms/step - loss: 1.2307 - accuracy: 0.5322 - val_loss: 1.2014 - val_accuracy: 0.5457\n",
      "Epoch 25/25\n",
      "717/717 [==============================] - 29s 40ms/step - loss: 1.2157 - accuracy: 0.5403 - val_loss: 1.2007 - val_accuracy: 0.5422\n"
     ]
    },
    {
     "data": {
      "text/plain": [
       "<keras.callbacks.History at 0x23342b31d30>"
      ]
     },
     "execution_count": 9,
     "metadata": {},
     "output_type": "execute_result"
    }
   ],
   "source": [
    "# Step 5: Train the Model\n",
    "model.fit(\n",
    "    train_generator,\n",
    "    steps_per_epoch=train_generator.samples // batch_size,\n",
    "    epochs=25,\n",
    "    validation_data=validation_generator,\n",
    "    validation_steps=validation_generator.samples // batch_size\n",
    ")\n",
    "\n"
   ]
  },
  {
   "cell_type": "code",
   "execution_count": 10,
   "id": "9d1fef86",
   "metadata": {},
   "outputs": [
    {
     "name": "stdout",
     "output_type": "stream",
     "text": [
      "224/224 [==============================] - 38s 172ms/step - loss: 1.1705 - accuracy: 0.5571\n",
      "Test accuracy: 0.5570591688156128, Test loss: 1.1705397367477417\n"
     ]
    }
   ],
   "source": [
    "# Step 6: Evaluate the Model\n",
    "test_loss, test_acc = model.evaluate(test_generator, steps=test_generator.samples // batch_size)\n",
    "print(f'Test accuracy: {test_acc}, Test loss: {test_loss}')"
   ]
  },
  {
   "cell_type": "code",
   "execution_count": null,
   "id": "13ad3505",
   "metadata": {},
   "outputs": [],
   "source": []
  }
 ],
 "metadata": {
  "kernelspec": {
   "display_name": "Python 3",
   "language": "python",
   "name": "python3"
  },
  "language_info": {
   "codemirror_mode": {
    "name": "ipython",
    "version": 3
   },
   "file_extension": ".py",
   "mimetype": "text/x-python",
   "name": "python",
   "nbconvert_exporter": "python",
   "pygments_lexer": "ipython3",
   "version": "3.6.13"
  }
 },
 "nbformat": 4,
 "nbformat_minor": 5
}
