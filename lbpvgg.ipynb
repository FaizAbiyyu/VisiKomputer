{
 "cells": [
  {
   "cell_type": "code",
   "execution_count": 1,
   "metadata": {},
   "outputs": [
    {
     "name": "stdout",
     "output_type": "stream",
     "text": [
      "Epoch 1/10\n",
      "449/449 [==============================] - 57s 80ms/step - loss: 2.7500 - accuracy: 0.2479 - val_loss: 1.7894 - val_accuracy: 0.2463\n",
      "Epoch 2/10\n",
      "449/449 [==============================] - 35s 78ms/step - loss: 1.7236 - accuracy: 0.3002 - val_loss: 1.6407 - val_accuracy: 0.3530\n",
      "Epoch 3/10\n",
      "449/449 [==============================] - 35s 78ms/step - loss: 1.4764 - accuracy: 0.4280 - val_loss: 1.5584 - val_accuracy: 0.3888\n",
      "Epoch 4/10\n",
      "449/449 [==============================] - 35s 78ms/step - loss: 1.0504 - accuracy: 0.6181 - val_loss: 1.6567 - val_accuracy: 0.3851\n",
      "Epoch 5/10\n",
      "449/449 [==============================] - 35s 78ms/step - loss: 0.4114 - accuracy: 0.8643 - val_loss: 1.9351 - val_accuracy: 0.3852\n",
      "Epoch 6/10\n",
      "449/449 [==============================] - 35s 78ms/step - loss: 0.1971 - accuracy: 0.9374 - val_loss: 2.5528 - val_accuracy: 0.4035\n",
      "Epoch 7/10\n",
      "449/449 [==============================] - 35s 78ms/step - loss: 0.1609 - accuracy: 0.9506 - val_loss: 2.4672 - val_accuracy: 0.3833\n",
      "Epoch 8/10\n",
      "449/449 [==============================] - 35s 78ms/step - loss: 0.1526 - accuracy: 0.9555 - val_loss: 2.3833 - val_accuracy: 0.3937\n",
      "Epoch 9/10\n",
      "449/449 [==============================] - 35s 78ms/step - loss: 0.1359 - accuracy: 0.9646 - val_loss: 2.6232 - val_accuracy: 0.3977\n",
      "Epoch 10/10\n",
      "449/449 [==============================] - 35s 78ms/step - loss: 0.1194 - accuracy: 0.9675 - val_loss: 2.8759 - val_accuracy: 0.4014\n"
     ]
    },
    {
     "data": {
      "text/plain": [
       "<keras.callbacks.History at 0x126873c8c18>"
      ]
     },
     "execution_count": 1,
     "metadata": {},
     "output_type": "execute_result"
    }
   ],
   "source": [
    "# Dipakek\n",
    "import pandas as pd\n",
    "import numpy as np\n",
    "import cv2\n",
    "import tensorflow as tf\n",
    "from tensorflow.keras.layers import Conv2D, MaxPooling2D, Flatten, Dense, Dropout\n",
    "from tensorflow.keras.models import Sequential\n",
    "from sklearn.model_selection import train_test_split\n",
    "from sklearn.preprocessing import LabelEncoder\n",
    "from skimage.feature import local_binary_pattern\n",
    "\n",
    "# Fungsi untuk menghitung LBP pada satu gambar\n",
    "def calculate_lbp_image(img):\n",
    "    lbp_image = local_binary_pattern(img, 8, 1, method='uniform')\n",
    "    return lbp_image\n",
    "\n",
    "# Baca dataset FER2013\n",
    "data = pd.read_csv('../fer2013.csv')\n",
    "\n",
    "# Ekstraksi fitur LBP dan simpan dalam list\n",
    "lbp_features = []\n",
    "for i in range(len(data)):\n",
    "    pixels = np.array(data['pixels'].iloc[i].split(' '), dtype=int)\n",
    "    img = pixels.reshape(48, 48)\n",
    "    lbp_image = calculate_lbp_image(img)\n",
    "    lbp_features.append(lbp_image)\n",
    "\n",
    "# Konversi list ke array\n",
    "lbp_features = np.array(lbp_features)\n",
    "\n",
    "# Konversi label emosi menjadi one-hot encoding\n",
    "encoder = LabelEncoder()\n",
    "labels = encoder.fit_transform(data['emotion'])\n",
    "labels = tf.keras.utils.to_categorical(labels, num_classes=7)  # Ubah menjadi 7 karena ada 7 emosi dalam dataset\n",
    "\n",
    "# Bagi data menjadi set pelatihan dan validasi\n",
    "X_train, X_val, y_train, y_val = train_test_split(lbp_features, labels, test_size=0.2, random_state=42)\n",
    "\n",
    "# Buat model Sequential\n",
    "model = Sequential()\n",
    "\n",
    "# Layer 1\n",
    "model.add(Conv2D(64, (3, 3), input_shape=(48, 48, 1), activation='relu', padding='same'))\n",
    "model.add(Conv2D(64, (3, 3), activation='relu', padding='same'))\n",
    "model.add(MaxPooling2D(pool_size=(2, 2), strides=(2, 2)))\n",
    "\n",
    "# Fully connected layers\n",
    "model.add(Flatten())\n",
    "model.add(Dense(4096, activation='relu'))\n",
    "model.add(Dropout(0.5))\n",
    "model.add(Dense(4096, activation='relu'))\n",
    "model.add(Dropout(0.5))\n",
    "model.add(Dense(7, activation='softmax'))  # Output layer with 7 classes (emotions)\n",
    "\n",
    "# Compile model\n",
    "model.compile(optimizer='adam', loss='categorical_crossentropy', metrics=['accuracy'])\n",
    "\n",
    "model.save('lbpvgg.h5')\n",
    "\n",
    "# Reshape data LBP untuk memenuhi input model\n",
    "X_train = X_train.reshape(-1, 48, 48, 1)\n",
    "X_val = X_val.reshape(-1, 48, 48, 1)\n",
    "\n",
    "# Latih model dengan data LBP\n",
    "model.fit(X_train, y_train, validation_data=(X_val, y_val), epochs=10, batch_size=64)\n"
   ]
  },
  {
   "cell_type": "code",
   "execution_count": 3,
   "metadata": {},
   "outputs": [],
   "source": [
    "model1 = model.save('lbpvgg10.h5')"
   ]
  },
  {
   "cell_type": "code",
   "execution_count": null,
   "metadata": {},
   "outputs": [],
   "source": []
  }
 ],
 "metadata": {
  "kernelspec": {
   "display_name": "Python 3",
   "language": "python",
   "name": "python3"
  },
  "language_info": {
   "codemirror_mode": {
    "name": "ipython",
    "version": 3
   },
   "file_extension": ".py",
   "mimetype": "text/x-python",
   "name": "python",
   "nbconvert_exporter": "python",
   "pygments_lexer": "ipython3",
   "version": "3.6.13"
  }
 },
 "nbformat": 4,
 "nbformat_minor": 2
}
