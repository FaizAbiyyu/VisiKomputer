{
 "cells": [
  {
   "cell_type": "code",
   "execution_count": 20,
   "id": "8140cee0",
   "metadata": {},
   "outputs": [],
   "source": [
    "from PIL import Image\n",
    "import os\n",
    "import matplotlib.pyplot as plt\n",
    "import zipfile\n",
    "import tempfile\n",
    "import numpy as np\n",
    "from scipy.spatial.distance import pdist, squareform\n",
    "from scipy.linalg import eigh"
   ]
  },
  {
   "cell_type": "code",
   "execution_count": 21,
   "id": "bc4bc3b6",
   "metadata": {},
   "outputs": [],
   "source": [
    "# Extract ZIP file\n",
    "def extract_zip(zip_path, extract_to):\n",
    "    with zipfile.ZipFile(zip_path, 'r') as zip_ref:\n",
    "        zip_ref.extractall(extract_to)"
   ]
  },
  {
   "cell_type": "code",
   "execution_count": 22,
   "id": "f3212b3a",
   "metadata": {},
   "outputs": [],
   "source": [
    "def load_data(path, height, width):\n",
    "    img = os.listdir(path)\n",
    "    images = np.zeros((width * height, len(img)))\n",
    "    train_labels = np.zeros(len(img)).astype('uint8')\n",
    "    for pic, i in zip(img, np.arange(len(img))):\n",
    "        label_str = pic.split('.')[0].replace('subject', '')  # Extract the label part\n",
    "        if label_str.isdigit():\n",
    "            train_labels[i] = int(label_str) - 1\n",
    "        else:\n",
    "            print(f\"Skipping file {pic} as it doesn't match expected naming convention.\")\n",
    "            continue  # Skip files that don't match the naming convention\n",
    "        image = np.asarray(Image.open(os.path.join(path, pic)).resize((width, height), Image.ANTIALIAS)).flatten()\n",
    "        images[:, i] = image\n",
    "    return images, train_labels\n"
   ]
  },
  {
   "cell_type": "code",
   "execution_count": 23,
   "id": "fc51efd5",
   "metadata": {},
   "outputs": [],
   "source": [
    "def PCA(imgData_train, num_dim=None):\n",
    "    imgData_mean = np.mean(imgData_train, axis=1).reshape(-1, 1)\n",
    "    data_centered = imgData_train - imgData_mean\n",
    "    S = data_centered.T @ data_centered\n",
    "    eigenvalues, eigenvectors = np.linalg.eig(S)\n",
    "\n",
    "    sort_index = np.argsort(-eigenvalues)\n",
    "    if num_dim is None:\n",
    "        for value, i in zip(eigenvalues[sort_index], np.arange(len(eigenvalues))):\n",
    "            if value <= 0:\n",
    "                sort_index = sort_index[:i]\n",
    "                break\n",
    "    else:\n",
    "        sort_index = sort_index[:num_dim]\n",
    "\n",
    "    eigenvalues = eigenvalues[sort_index]\n",
    "    eigenvectors = data_centered @ eigenvectors[:, sort_index]\n",
    "    eigenvectors_norm = np.linalg.norm(eigenvectors, axis=0)\n",
    "    eigenvectors = eigenvectors / eigenvectors_norm\n",
    "    return eigenvectors, eigenvalues"
   ]
  },
  {
   "cell_type": "code",
   "execution_count": 24,
   "id": "3182b9b2",
   "metadata": {},
   "outputs": [],
   "source": [
    "def kernel_function(X, gamma, alpha, kernel_type):\n",
    "    sq_dists = pdist(X, 'sqeuclidean')\n",
    "    mat_sq_dists = squareform(sq_dists)\n",
    "\n",
    "    if kernel_type == '1':\n",
    "        K = np.exp(-gamma * mat_sq_dists)\n",
    "    elif kernel_type == '2':\n",
    "        K = (1 + gamma * mat_sq_dists / alpha**alpha)\n",
    "    return K\n",
    "\n"
   ]
  },
  {
   "cell_type": "code",
   "execution_count": 25,
   "id": "fa5e87f2",
   "metadata": {},
   "outputs": [],
   "source": [
    "def kernel_PCA(imgData_train, gamma, alpha, n_components, kernel_type):\n",
    "    K = kernel_function(imgData_train, gamma, alpha, kernel_type)\n",
    "\n",
    "    N = K.shape[0]\n",
    "    one_n = np.ones((N, N)) / N\n",
    "    K = K - one_n.dot(K) - K.dot(one_n) + one_n.dot(K).dot(one_n)\n",
    "\n",
    "    eigenvalues, eigenvectors = eigh(K)\n",
    "    eigenvalues, eigenvectors = eigenvalues[::-1], eigenvectors[:, ::-1]\n",
    "    eigenvectors = np.column_stack([eigenvectors[:, i] for i in range(n_components)])\n",
    "    return eigenvectors, eigenvalues"
   ]
  },
  {
   "cell_type": "code",
   "execution_count": 26,
   "id": "a7ccd2ed",
   "metadata": {},
   "outputs": [
    {
     "name": "stdout",
     "output_type": "stream",
     "text": [
      "Skipping file Yale_Face_Database as it doesn't match expected naming convention.\n"
     ]
    }
   ],
   "source": [
    "zip_file_path = 'Yale_Face_Database.zip'  # Path to the uploaded ZIP file\n",
    "\n",
    "# Use a temporary directory to extract files\n",
    "with tempfile.TemporaryDirectory() as tmpdirname:\n",
    "    extract_zip(zip_file_path, tmpdirname)\n",
    "    images, train_labels = load_data(tmpdirname, height=50, width=50)  # Specify your desired height and width"
   ]
  },
  {
   "cell_type": "code",
   "execution_count": null,
   "id": "e39212a9",
   "metadata": {},
   "outputs": [],
   "source": []
  }
 ],
 "metadata": {
  "kernelspec": {
   "display_name": "Python 3 (ipykernel)",
   "language": "python",
   "name": "python3"
  },
  "language_info": {
   "codemirror_mode": {
    "name": "ipython",
    "version": 3
   },
   "file_extension": ".py",
   "mimetype": "text/x-python",
   "name": "python",
   "nbconvert_exporter": "python",
   "pygments_lexer": "ipython3",
   "version": "3.10.12"
  }
 },
 "nbformat": 4,
 "nbformat_minor": 5
}
